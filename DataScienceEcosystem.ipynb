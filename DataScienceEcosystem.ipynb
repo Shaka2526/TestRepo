{
 "cells": [
  {
   "cell_type": "markdown",
   "id": "fd18b156-043e-4f5f-9837-edae69d92aea",
   "metadata": {},
   "source": [
    "# Data Science Tools and Ecosystem"
   ]
  },
  {
   "cell_type": "markdown",
   "id": "6dc1607b-2970-427e-9314-665d4addaebe",
   "metadata": {},
   "source": [
    "In this notebook, Data Science Tools and Ecosystem are summarized."
   ]
  },
  {
   "cell_type": "markdown",
   "id": "977a2f9f-1d41-4e56-98db-290b9ad007d0",
   "metadata": {},
   "source": [
    "**Objectives:**\n",
    "- Popular Languages used in Data Science\n",
    "- Libraries used for Data Science\n",
    "- Tools used in Data Science\n",
    "- execution of arithematic experessions"
   ]
  },
  {
   "cell_type": "markdown",
   "id": "c259306e-ccd5-4b2c-9f28-40c2275d6aea",
   "metadata": {},
   "source": [
    "Some of the popular languages that Data Scientists use are:\n",
    "1. Python\n",
    "2. R\n",
    "3. SQL\n",
    "4. JavaScript\n"
   ]
  },
  {
   "cell_type": "markdown",
   "id": "8f1ff0c3-3e1c-4bfa-994a-d367ed7d4915",
   "metadata": {},
   "source": [
    "Some of the commonly used libraries used by Data Scientists include:\n",
    "\n",
    "1. pandas\n",
    "2. numpy\n",
    "3. seaborn\n",
    "4. matplotlib"
   ]
  },
  {
   "cell_type": "markdown",
   "id": "b0378acc-8cc1-4e03-aaf6-63a652ba2ce5",
   "metadata": {},
   "source": [
    "Table of Data Science Tools:\n",
    "|Data Science Tools|\n",
    "|------------------|\n",
    "|Python|\n",
    "|R Language|\n",
    "|MySQL|"
   ]
  },
  {
   "cell_type": "markdown",
   "id": "d6def08a-af32-4355-a24f-fab77c24cfe7",
   "metadata": {},
   "source": [
    "### Below are a few examples of evaluating arithmetic expressions in Python"
   ]
  },
  {
   "cell_type": "code",
   "execution_count": 6,
   "id": "73fc0680-0bb8-4a8e-a54e-3ebd01201cf4",
   "metadata": {},
   "outputs": [
    {
     "data": {
      "text/plain": [
       "17"
      ]
     },
     "execution_count": 6,
     "metadata": {},
     "output_type": "execute_result"
    }
   ],
   "source": [
    "#This a simple arithmetic expression to mutiply then add integers\n",
    "(3*4)+5"
   ]
  },
  {
   "cell_type": "code",
   "execution_count": 7,
   "id": "6e750f41-9928-4127-81ce-dfaed3785000",
   "metadata": {},
   "outputs": [
    {
     "data": {
      "text/plain": [
       "3.3333333333333335"
      ]
     },
     "execution_count": 7,
     "metadata": {},
     "output_type": "execute_result"
    }
   ],
   "source": [
    "#This will convert 200 minutes to hours by diving by 60\n",
    "200/60"
   ]
  },
  {
   "cell_type": "markdown",
   "id": "537e5548-a50f-40cd-bbe3-02ddf9a2e882",
   "metadata": {},
   "source": [
    "## Author\n",
    "Shalaka Helkar"
   ]
  },
  {
   "cell_type": "code",
   "execution_count": null,
   "id": "a653e9a5-4cdc-4381-9866-8d443e07e085",
   "metadata": {},
   "outputs": [],
   "source": []
  }
 ],
 "metadata": {
  "kernelspec": {
   "display_name": "Python 3 (ipykernel)",
   "language": "python",
   "name": "python3"
  },
  "language_info": {
   "codemirror_mode": {
    "name": "ipython",
    "version": 3
   },
   "file_extension": ".py",
   "mimetype": "text/x-python",
   "name": "python",
   "nbconvert_exporter": "python",
   "pygments_lexer": "ipython3",
   "version": "3.12.7"
  }
 },
 "nbformat": 4,
 "nbformat_minor": 5
}
